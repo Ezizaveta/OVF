{
 "cells": [
  {
   "cell_type": "code",
   "execution_count": 1,
   "id": "e0619733",
   "metadata": {},
   "outputs": [],
   "source": [
    "import numpy as np"
   ]
  },
  {
   "cell_type": "code",
   "execution_count": 73,
   "id": "bb6cc346",
   "metadata": {},
   "outputs": [
    {
     "name": "stdout",
     "output_type": "stream",
     "text": [
      "<class 'numpy.float32'> <class 'numpy.float32'> <class 'numpy.float32'>\n"
     ]
    }
   ],
   "source": [
    "max_power, min_power = 0, 0\n",
    "P =np.float32(1.0)\n",
    "mantissa = 1\n",
    "eps = np.power(2, -mantissa, dtype=np.float32)\n",
    "F = np.float32(1)\n",
    "print(type(eps), type(F), type(P))"
   ]
  },
  {
   "cell_type": "code",
   "execution_count": 115,
   "id": "c28482ae",
   "metadata": {},
   "outputs": [],
   "source": [
    "def eps_counter(eps, mantissa):\n",
    "    while (eps / 2 + 1) != 1 and (1 + eps) > 1:\n",
    "        mantissa = mantissa + 1\n",
    "        eps = 2**(-mantissa)\n",
    "    return eps, mantissa\n",
    "\n",
    "def max_power_counter_float32(F, max_power):\n",
    "    while (np.isinf(F) != True):\n",
    "        F = np.float32(F * 2)\n",
    "        max_power = max_power + 1\n",
    "    return max_power, np.float32(F)\n",
    "\n",
    "def max_power_counter_float16(F, max_power):\n",
    "    while (np.isinf(F) != True):\n",
    "        F = F * 2\n",
    "        max_power = max_power + 1\n",
    "    return max_power, F\n",
    "\n",
    "def min_power_counter_float32(min_power, P):\n",
    "    while (np.float32(P) != np.float32(0)):\n",
    "        min_power = min_power - 1\n",
    "        P = np.power(2.0, min_power, dtype=np.float32)\n",
    "    return min_power, P\n",
    "        \n",
    "def min_power_counter_float16(min_power, p):\n",
    "    while (p != 0.0):\n",
    "        min_power = min_power - 1\n",
    "        p = np.power(2.0, min_power)\n",
    "    return min_power, p"
   ]
  },
  {
   "cell_type": "code",
   "execution_count": 116,
   "id": "48551027",
   "metadata": {},
   "outputs": [
    {
     "name": "stdout",
     "output_type": "stream",
     "text": [
      "<class 'float'> <class 'int'>\n",
      "eps:  2.220446049250313e-16 мантисса:  52\n"
     ]
    }
   ],
   "source": [
    "eps1, mantissa1 = eps_counter(eps, mantissa)\n",
    "\n",
    "print(type(eps1), type(mantissa1))\n",
    "print(\"eps: \", eps1,\"мантисса: \", mantissa1)"
   ]
  },
  {
   "cell_type": "code",
   "execution_count": 118,
   "id": "7ea2d9ee",
   "metadata": {},
   "outputs": [
    {
     "name": "stdout",
     "output_type": "stream",
     "text": [
      "<class 'int'> <class 'numpy.float32'>\n",
      "max power:  -1\n"
     ]
    }
   ],
   "source": [
    "max_pow, F = max_power_counter_float32(F, max_power)\n",
    "print(type(max_pow), type(F))\n",
    "print(\"max power: \", max_pow - 1)"
   ]
  },
  {
   "cell_type": "code",
   "execution_count": 119,
   "id": "6758f0a9",
   "metadata": {},
   "outputs": [
    {
     "name": "stdout",
     "output_type": "stream",
     "text": [
      "<class 'int'> <class 'numpy.float32'>\n",
      "min power:  -148\n"
     ]
    }
   ],
   "source": [
    "min_power, p = min_power_counter_float32(min_power, P)\n",
    "print(type(min_power), type(p))\n",
    "print(\"min power: \", (min_power + 1) + mantissa)"
   ]
  },
  {
   "cell_type": "code",
   "execution_count": null,
   "id": "9faf087c",
   "metadata": {},
   "outputs": [],
   "source": [
    "#16 signs precision"
   ]
  },
  {
   "cell_type": "code",
   "execution_count": 109,
   "id": "01ce17bf",
   "metadata": {},
   "outputs": [],
   "source": [
    "max_power, min_power = 0, 0\n",
    "p = 1.0\n",
    "mantissa = 1\n",
    "eps2 = 2**(-mantissa)\n",
    "f =1.0"
   ]
  },
  {
   "cell_type": "code",
   "execution_count": 107,
   "id": "9cb4fa69",
   "metadata": {},
   "outputs": [
    {
     "name": "stdout",
     "output_type": "stream",
     "text": [
      "<class 'float'>\n"
     ]
    }
   ],
   "source": [
    "print(type(eps2))"
   ]
  },
  {
   "cell_type": "code",
   "execution_count": 108,
   "id": "3e027414",
   "metadata": {},
   "outputs": [],
   "source": [
    "# while (eps2 / 2.0 + 1.0) != 1:\n",
    "#     mantissa = mantissa + 1\n",
    "#     eps2 = 2**(-mantissa)"
   ]
  },
  {
   "cell_type": "code",
   "execution_count": 96,
   "id": "403c5547",
   "metadata": {},
   "outputs": [],
   "source": [
    "# while (np.isinf(f) != True):\n",
    "#     f = f*2\n",
    "#     max_power = max_power + 1"
   ]
  },
  {
   "cell_type": "code",
   "execution_count": 117,
   "id": "0c85236a",
   "metadata": {},
   "outputs": [
    {
     "name": "stdout",
     "output_type": "stream",
     "text": [
      "<class 'float'> <class 'int'>\n",
      "eps:  2.220446049250313e-16 мантисса:  52\n"
     ]
    }
   ],
   "source": [
    "eps2, mantissa1 = eps_counter(eps2, mantissa)\n",
    "print(type(eps2), type(mantissa1))\n",
    "print(\"eps: \", eps2,\"мантисса: \", mantissa1)"
   ]
  },
  {
   "cell_type": "code",
   "execution_count": 120,
   "id": "4849dfba",
   "metadata": {},
   "outputs": [
    {
     "name": "stdout",
     "output_type": "stream",
     "text": [
      "<class 'int'> <class 'numpy.float32'>\n",
      "max power:  -1\n"
     ]
    }
   ],
   "source": [
    "max_pow, F = max_power_counter_float16(F, max_power)\n",
    "print(type(max_pow), type(F))\n",
    "print(\"max power: \", max_pow - 1)"
   ]
  },
  {
   "cell_type": "code",
   "execution_count": 121,
   "id": "36a78eba",
   "metadata": {},
   "outputs": [
    {
     "name": "stdout",
     "output_type": "stream",
     "text": [
      "<class 'int'> <class 'numpy.float64'>\n",
      "min power:  -1074\n"
     ]
    }
   ],
   "source": [
    "min_power, p = min_power_counter_float16(min_power, P)\n",
    "print(type(min_power), type(p))\n",
    "print(\"min power: \", (min_power + 1) + mantissa)"
   ]
  },
  {
   "cell_type": "code",
   "execution_count": 72,
   "id": "df90b57d",
   "metadata": {},
   "outputs": [
    {
     "name": "stdout",
     "output_type": "stream",
     "text": [
      "eps:  2.220446049250313e-16 \n",
      "mantissa:  52\n",
      "max power:  1023\n",
      "F:  inf\n",
      "min power:  -1021\n",
      "P:  5e-324\n"
     ]
    }
   ],
   "source": [
    "print(\"eps: \", eps2,\"\\nmantissa: \",mantissa)\n",
    "print(\"max power: \", max_power - 1)\n",
    "print(\"F: \", f)\n",
    "print(\"min power: \", (min_power + 1) + mantissa)\n",
    "print(\"P: \", p)"
   ]
  },
  {
   "cell_type": "code",
   "execution_count": null,
   "id": "1719a00e",
   "metadata": {},
   "outputs": [],
   "source": []
  }
 ],
 "metadata": {
  "kernelspec": {
   "display_name": "Python 3 (ipykernel)",
   "language": "python",
   "name": "python3"
  },
  "language_info": {
   "codemirror_mode": {
    "name": "ipython",
    "version": 3
   },
   "file_extension": ".py",
   "mimetype": "text/x-python",
   "name": "python",
   "nbconvert_exporter": "python",
   "pygments_lexer": "ipython3",
   "version": "3.10.4"
  }
 },
 "nbformat": 4,
 "nbformat_minor": 5
}
