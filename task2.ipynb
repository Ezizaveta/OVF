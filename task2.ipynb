{
 "cells": [
  {
   "cell_type": "code",
   "execution_count": 112,
   "id": "a6faa056",
   "metadata": {},
   "outputs": [],
   "source": [
    "import numpy as np"
   ]
  },
  {
   "cell_type": "code",
   "execution_count": 113,
   "id": "834a35cb",
   "metadata": {},
   "outputs": [],
   "source": [
    "a = 1\n",
    "U0 = 1\n",
    "m = 1\n",
    "E0 = -0.5\n",
    "E00 = (np.pi) ** 2 / (8 * a ** 2) - U0\n",
    "\n",
    "x0 = (-U0+E00)/2  #начальное приближение\n",
    "\n",
    "precision = 10e-15"
   ]
  },
  {
   "cell_type": "code",
   "execution_count": 115,
   "id": "02c99f55",
   "metadata": {},
   "outputs": [],
   "source": [
    "#set function\n",
    "def f(E: float):\n",
    "    return 1 / np.tan(np.sqrt(2 * m * a ** 2 * U0 * (1 + E / U0))) - np.sqrt((-U0 / E) - 1)\n",
    "\n",
    "def df(E: float):\n",
    "    return  - (a ** 2) / ((np.sin(np.sqrt(2 * a * 2 * U0 * (1 + E / U0))) ** 2) *\n",
    "                          np.sqrt(2 * a ** 2 * U0 * (1 + E / U0))) - (U0/ 2) / (E ** 2 * ((-U0 / E) - 1))"
   ]
  },
  {
   "cell_type": "code",
   "execution_count": 104,
   "id": "5377f549",
   "metadata": {},
   "outputs": [],
   "source": [
    "def dichotomy(a, b, error=precision):\n",
    "    middle = (a + b) / 2\n",
    "    print(middle)\n",
    "    if (abs(a - b) / 2) < error:\n",
    "        return middle   \n",
    "    if (f(a) * f(middle) <= 0):\n",
    "        return dichotomy(a, middle)\n",
    "    else:\n",
    "        return dichotomy(middle, b)\n",
    "\n",
    "x0 = -U0\n",
    "x1 = (np.pi ** 2) / (8 * a ** 2) - U0\n",
    "x_initial = -U0"
   ]
  },
  {
   "cell_type": "code",
   "execution_count": 107,
   "id": "f6dbc462",
   "metadata": {},
   "outputs": [
    {
     "name": "stdout",
     "output_type": "stream",
     "text": [
      "-0.3831497249319151\n",
      "-0.6915748624659576\n",
      "-0.5373622936989364\n",
      "-0.614468578082447\n",
      "-0.5759154358906917\n",
      "-0.5951920069865694\n",
      "-0.6048302925345082\n",
      "-0.6000111497605387\n",
      "-0.6024207211475234\n",
      "-0.6036255068410158\n",
      "-0.6042278996877619\n",
      "-0.6039267032643889\n",
      "-0.6037761050527024\n",
      "-0.6038514041585457\n",
      "-0.6038890537114673\n",
      "-0.6039078784879282\n",
      "-0.6038984660996978\n",
      "-0.6038937599055825\n",
      "-0.6038961130026401\n",
      "-0.603897289551169\n",
      "-0.6038978778254334\n",
      "-0.6038975836883012\n",
      "-0.6038977307568673\n",
      "-0.6038978042911503\n",
      "-0.6038978410582918\n",
      "-0.603897822674721\n",
      "-0.6038978318665065\n",
      "-0.6038978364623991\n",
      "-0.6038978341644528\n",
      "-0.6038978330154796\n",
      "-0.6038978335899662\n",
      "-0.6038978338772094\n",
      "-0.6038978337335879\n",
      "-0.6038978338053986\n",
      "-0.603897833841304\n",
      "-0.6038978338592567\n",
      "-0.603897833868233\n",
      "-0.6038978338637448\n",
      "-0.6038978338615008\n",
      "-0.6038978338626229\n",
      "-0.6038978338631839\n",
      "-0.6038978338634644\n",
      "-0.6038978338633241\n",
      "-0.6038978338633942\n",
      "-0.6038978338634293\n",
      "-0.6038978338634118\n",
      "-0.603897833863403\n",
      "-0.603897833863403\n",
      "3.008704396734174e-14\n"
     ]
    },
    {
     "name": "stderr",
     "output_type": "stream",
     "text": [
      "C:\\Users\\Liza-\\AppData\\Local\\Temp\\ipykernel_15348\\3956511137.py:3: RuntimeWarning: divide by zero encountered in double_scalars\n",
      "  return 1 / np.tan(np.sqrt(2 * m * a ** 2 * U0 * (1 + E / U0))) - np.sqrt((-U0 / E) - 1)\n"
     ]
    }
   ],
   "source": [
    "dichotomy_root = dichotomy(x0, x1)\n",
    "print(dichotomy_root)\n",
    "print(f(dichotomy_root))\n",
    "Lambda = 1 / df(dichotomy_root) + 0.000000000000000000001"
   ]
  },
  {
   "cell_type": "code",
   "execution_count": 108,
   "id": "902f5e58",
   "metadata": {},
   "outputs": [],
   "source": [
    "def Newton(x, x0=x_initial, error=precision):\n",
    "    x_next = x - f(x) / df(x)\n",
    "    curError = np.abs(x0 - x)\n",
    "    if curError > error:\n",
    "        return Newton(x_next, x)\n",
    "    else:\n",
    "        return x"
   ]
  },
  {
   "cell_type": "code",
   "execution_count": 109,
   "id": "951d4e89",
   "metadata": {},
   "outputs": [
    {
     "name": "stdout",
     "output_type": "stream",
     "text": [
      "-0.6038978338633947\n"
     ]
    }
   ],
   "source": [
    "newtonRoot = Newton(E0)\n",
    "print(newtonRoot)"
   ]
  },
  {
   "cell_type": "code",
   "execution_count": null,
   "id": "df4d3fd9",
   "metadata": {},
   "outputs": [],
   "source": []
  },
  {
   "cell_type": "code",
   "execution_count": 116,
   "id": "9d3926e2",
   "metadata": {},
   "outputs": [
    {
     "name": "stdout",
     "output_type": "stream",
     "text": [
      "0.09452855533014559\n",
      "0.01675448549622427\n",
      "0.0011680986005527805\n",
      "7.782719355309275e-05\n",
      "5.202583055807786e-06\n",
      "3.4770527812533203e-07\n",
      "2.323861147957018e-08\n",
      "1.5531194108575619e-09\n",
      "1.0381406845283436e-10\n",
      "6.9255712276117265e-12\n",
      "4.755085214469545e-13\n",
      "1.9095836023552692e-14\n",
      "1.4210854715202004e-14\n",
      "1.1879386363489175e-14\n"
     ]
    }
   ],
   "source": [
    "def fixedPointIteration(x, x0=x_initial, error=precision):\n",
    "    print(abs(1 - Lambda * df(x)))\n",
    "    if abs(1 - Lambda * df(x)) <= 1:\n",
    "        value = x - Lambda * f(x)\n",
    "        curError = abs(x0 - x)\n",
    "        if curError > error:\n",
    "            return fixedPointIteration(value, x)\n",
    "        else:\n",
    "            return x\n",
    "\n",
    "fixPointIterRoot = fixedPointIteration(x0)"
   ]
  },
  {
   "cell_type": "code",
   "execution_count": 117,
   "id": "f05e7045",
   "metadata": {},
   "outputs": [
    {
     "name": "stdout",
     "output_type": "stream",
     "text": [
      "-0.6038978338633947\n"
     ]
    }
   ],
   "source": [
    "print(fixPointIterRoot)"
   ]
  },
  {
   "cell_type": "code",
   "execution_count": null,
   "id": "c91674f7",
   "metadata": {},
   "outputs": [],
   "source": []
  }
 ],
 "metadata": {
  "kernelspec": {
   "display_name": "Python 3 (ipykernel)",
   "language": "python",
   "name": "python3"
  },
  "language_info": {
   "codemirror_mode": {
    "name": "ipython",
    "version": 3
   },
   "file_extension": ".py",
   "mimetype": "text/x-python",
   "name": "python",
   "nbconvert_exporter": "python",
   "pygments_lexer": "ipython3",
   "version": "3.10.4"
  }
 },
 "nbformat": 4,
 "nbformat_minor": 5
}
