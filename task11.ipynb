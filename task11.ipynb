{
 "cells": [
  {
   "cell_type": "code",
   "execution_count": 1,
   "id": "a72f8def",
   "metadata": {},
   "outputs": [],
   "source": [
    "import numpy as np\n",
    "import matplotlib.pyplot as plt"
   ]
  },
  {
   "cell_type": "code",
   "execution_count": 2,
   "id": "470ee835",
   "metadata": {},
   "outputs": [],
   "source": [
    "# def make_system(n, x_0, x_n, y_0, y_n):\n",
    "    \n",
    "#     h = (x_n - x_0)/n\n",
    "    \n",
    "#     a = []\n",
    "#     b = []\n",
    "#     c = []\n",
    "#     d = []\n",
    "\n",
    "#     a.append(0)\n",
    "#     b.append(1)\n",
    "#     c.append(0)\n",
    "\n",
    "#     for i in range(1, n):\n",
    "#         a.append(1)\n",
    "#         b.append(-2)\n",
    "#         c.append(1)\n",
    "    \n",
    "#     a.append(0)\n",
    "#     b.append(1)\n",
    "#     c.append(0)\n",
    "    \n",
    "#     d = []\n",
    "#     x = []\n",
    "\n",
    "#     d.append(y_0)\n",
    "#     x.append(x_0)\n",
    "\n",
    "#     for i in range(1,n):\n",
    "#         x_i = x_0 + h*i\n",
    "#         d.append((h ** 2) * f(x_i))\n",
    "#         x.append(x_i)\n",
    "\n",
    "#     d.append(y_n)\n",
    "#     x.append(x_n)\n",
    "    \n",
    "#     A = [a, b, c]\n",
    "    \n",
    "#     return A, d, x"
   ]
  },
  {
   "cell_type": "code",
   "execution_count": 4,
   "id": "d4b95f2f",
   "metadata": {},
   "outputs": [],
   "source": [
    "def TridiagMatrixAlg(a, b, c, d, N):\n",
    "    y = np.array([0.] * N)\n",
    " \n",
    "    for i in range(1, N):\n",
    "        xi = a[i] / b[i-1]\n",
    "        a[i] = 0\n",
    "        b[i] -= xi * c[i-1]\n",
    "        d[i] -= xi * d[i-1]\n",
    "\n",
    "    y[N-1] = d[N-1] / b[N-1]    \n",
    "    \n",
    "    for i in range(N-2, -1, -1):\n",
    "        y[i] = 1 / b[i] * (d[i] - c[i] * y[i+1])    \n",
    "    \n",
    "    return y"
   ]
  },
  {
   "cell_type": "code",
   "execution_count": 5,
   "id": "247d4146",
   "metadata": {},
   "outputs": [],
   "source": [
    "U = lambda x: x**2 / 2"
   ]
  },
  {
   "cell_type": "code",
   "execution_count": 6,
   "id": "eb2239fb",
   "metadata": {},
   "outputs": [],
   "source": [
    "def A(x, N):\n",
    "    h = x[1] - x[0]\n",
    "    a = np.array([-1. / (2 * h**2)] * N)\n",
    "    a[0] = 0\n",
    "    b = 1. / h ** 2 + U(x)\n",
    "    c = np.array([-1./(2 * h**2)] * N)\n",
    "    c[N-1] = 0\n",
    "\n",
    "    return a, b, c"
   ]
  },
  {
   "cell_type": "code",
   "execution_count": 7,
   "id": "88cc4eba",
   "metadata": {},
   "outputs": [],
   "source": [
    "def Orthogonalization(psi_next, psi_prevs):\n",
    "    for psi in psi_prevs:\n",
    "        psi_next -= psi * (np.inner(psi_next, psi)) / np.linalg.norm(psi)"
   ]
  },
  {
   "cell_type": "code",
   "execution_count": 8,
   "id": "6e790d08",
   "metadata": {},
   "outputs": [],
   "source": [
    "def InverseIterations(psi0, x, N, iteration, levels):\n",
    "    E = []\n",
    "    psi = []\n",
    "    a, b, c = A(x, N)\n",
    "\n",
    "    for m in range(0, levels):\n",
    "        psi_next = psi0.copy()\n",
    "        Orthogonalization(psi_next, psi)\n",
    "        currError = 1e-4\n",
    "#         while np.abs(currError - 1e-5) > 0:\n",
    "#             psi_prev = psi_next\n",
    "#             psi_next = TridiagMatrixAlg(np.copy(a), np.copy(b), np.copy(c), np.copy(psi_next), N)\n",
    "#             Orthogonalization(psi_next, psi)\n",
    "        for k in range(0, iteration):\n",
    "            psi_prev = psi_next\n",
    "            psi_next = TridiagMatrixAlg(np.copy(a), np.copy(b), np.copy(c), np.copy(psi_next), N)\n",
    "            Orthogonalization(psi_next, psi)/\n",
    "    \n",
    "        E0 = np.linalg.norm(psi_prev) / np.linalg.norm(psi_next)\n",
    "        E.append(E0)\n",
    "        psi_next /= np.linalg.norm(psi_next)        \n",
    "        psi.append(psi_next)\n",
    "    \n",
    "    return E, psi"
   ]
  },
  {
   "cell_type": "code",
   "execution_count": 12,
   "id": "332fa9d5",
   "metadata": {},
   "outputs": [
    {
     "name": "stdout",
     "output_type": "stream",
     "text": [
      "E0: 0.4999874746486524\n"
     ]
    },
    {
     "data": {
      "image/png": "[encoded data removed]",
      "text/plain": [
       "<Figure size 700x500 with 1 Axes>"
      ]
     },
     "metadata": {},
     "output_type": "display_data"
    }
   ],
   "source": [
    "N = 1000\n",
    "iteration = 50\n",
    "(x1, x2) = (-10, 10)\n",
    "levels = 3 \n",
    "x = np.linspace(x1, x2, N)\n",
    "y0 = np.linspace(1, 2, N)\n",
    "\n",
    "E, psi = InverseIterations(y0, x, N, iteration, levels)\n",
    "\n",
    "plt.figure(figsize=(7, 5), dpi=100)\n",
    "\n",
    "# for i in range(0, levels):\n",
    "print(str.format('E{}: {}', 0, E[0]))\n",
    "plt.plot(x, psi[0], label = f'psi_{0}$')\n",
    "plt.legend()\n",
    "plt.show()"
   ]
  },
  {
   "cell_type": "code",
   "execution_count": null,
   "id": "695075f7",
   "metadata": {},
   "outputs": [],
   "source": []
  }
 ],
 "metadata": {
  "kernelspec": {
   "display_name": "Python 3 (ipykernel)",
   "language": "python",
   "name": "python3"
  },
  "language_info": {
   "codemirror_mode": {
    "name": "ipython",
    "version": 3
   },
   "file_extension": ".py",
   "mimetype": "text/x-python",
   "name": "python",
   "nbconvert_exporter": "python",
   "pygments_lexer": "ipython3",
   "version": "3.10.4"
  }
 },
 "nbformat": 4,
 "nbformat_minor": 5
}
